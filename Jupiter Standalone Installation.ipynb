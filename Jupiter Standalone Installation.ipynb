{
 "cells": [
  {
   "cell_type": "markdown",
   "id": "01fff410",
   "metadata": {},
   "source": [
    "# Why Jupiter? \n",
    "\n",
    "\n",
    "## IPython. \n",
    "\n",
    "- IPython is an enhanced, interactive Python interpreter that has a web-based interactive IPython notebook that can contain live Python code, visualizations, text and LaTeX code, fast parallel computing engine, debugging features, can run Unix commands, write & run Python programs inside the iPython environment, timing long-running processes useful in data analysis application (using %commands), a rich GUI console with inline plotting and more..\n",
    "\n",
    "\n",
    "- Jupiter is open-source and allows to create & share IPyton notebooks. \n",
    "\n",
    "Jupiter - official website: https://jupyter.org/index.html\n",
    "\n",
    "Npviewer - to share Jupyter notebooks: https://nbviewer.jupyter.org/\n",
    "\n"
   ]
  },
  {
   "cell_type": "markdown",
   "id": "46f656a4",
   "metadata": {},
   "source": [
    "# Jupiter Notebook Environment : Step-by-Step Installation\n",
    "\n",
    "Jupiter standalone is more stable "
   ]
  },
  {
   "cell_type": "markdown",
   "id": "a9b0699b",
   "metadata": {},
   "source": [
    "1: Check if Python is installed: Open Command Line (CL) and type python:\n",
    "$ Python\n",
    "\n",
    "NOTE: If need to install Python go to https://www.python.org/downloads/\n",
    "\n",
    "2. Back to CL. To check if pip is installed, type:\n",
    "\n",
    "*$ pip*\n",
    "\n",
    "NOTE: If need to download pip follow the following steps 1-2. \n",
    "\n",
    "Step1. From CL, type: \n",
    "\n",
    "*$ curl https://bootstrap.pypa.io/get-pip.py -o get-pip.py*\n",
    "\n",
    "Step2: Wait for installation then, type:\n",
    "\n",
    "*$ py get-pip.py*\n",
    "\n",
    "3. Check if pip is installed successfully:\n",
    "\n",
    "*$pip*\n",
    "\n",
    "4. Upgrade pip by typing \n",
    "\n",
    "*$ py -m pip install -U pip*\n",
    "\n",
    "4. Finally, to install Jupyter, from CL type:\n",
    "\n",
    "*$ pip install jupyter* \n",
    "\n",
    "5. Check if jupiter notebook installation was successful:\n",
    "\n",
    "*$ jupyter notebook*\n",
    "\n",
    "That will open Jupiter environment.\n",
    "\n",
    "Click New Python3 notebook and Voila!\n",
    "\n",
    "To install Python libraries, type pip install command either from CL or directly in Jupiter notebook environment:\n",
    "\n",
    "*$ pip install numpy*\n",
    "\n",
    "That will install numpy - numerical Python library."
   ]
  },
  {
   "cell_type": "markdown",
   "id": "79354cd2",
   "metadata": {},
   "source": [
    "\n",
    "## Without installation\n",
    "\n",
    "Google Colab is a free web-based Ipython notebook environment that does not need installation, and it has cool resources like GPUs/TPUs (15GB Tesla T4). However, your data is lost when you terminate your seession. More @ https://colab.research.google.com/notebooks/intro.ipynb\n"
   ]
  },
  {
   "cell_type": "markdown",
   "id": "1c2cb204",
   "metadata": {},
   "source": [
    "## Jupiter, the new Excel? \n",
    "\n",
    "More @ https://towardsdatascience.com/jupyter-is-the-new-excel-a7a22f2fc13a\n",
    "\n",
    "\n",
    "Jupiter Notebook tutorial: https://www.dataquest.io/blog/jupyter-notebook-tutorial\n",
    "\n"
   ]
  }
 ],
 "metadata": {
  "kernelspec": {
   "display_name": "Python 3",
   "language": "python",
   "name": "python3"
  },
  "language_info": {
   "codemirror_mode": {
    "name": "ipython",
    "version": 3
   },
   "file_extension": ".py",
   "mimetype": "text/x-python",
   "name": "python",
   "nbconvert_exporter": "python",
   "pygments_lexer": "ipython3",
   "version": "3.9.1"
  }
 },
 "nbformat": 4,
 "nbformat_minor": 5
}
